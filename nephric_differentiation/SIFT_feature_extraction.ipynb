{
 "cells": [
  {
   "cell_type": "markdown",
   "id": "994bcc59",
   "metadata": {},
   "source": [
    "# Feature extraction using SIFT\n",
    "\n",
    "In this notebook, we compute the feature for the day 4 bright-field image patches of nephric differentiation. We use the \"bag-of-keypoints\" representation, where the keypoints and their descriptors are derived from SIFT. We finally visualize the feature space using t-SNE (**Supplementary Fig. S15d**). "
   ]
  },
  {
   "cell_type": "code",
   "execution_count": 1,
   "id": "6eb6e2a1",
   "metadata": {},
   "outputs": [],
   "source": [
    "import glob, os\n",
    "import pandas as pd\n",
    "import numpy as np\n",
    "import random\n",
    "\n",
    "import sklearn\n",
    "from sklearn.model_selection import train_test_split"
   ]
  },
  {
   "cell_type": "code",
   "execution_count": 2,
   "id": "4cb5d1d4",
   "metadata": {},
   "outputs": [],
   "source": [
    "# set the random seed to ensure that the results are reproducible\n",
    "\n",
    "seed = 12345\n",
    "random.seed(seed)\n",
    "np.random.seed(seed)"
   ]
  },
  {
   "cell_type": "markdown",
   "id": "3d068130",
   "metadata": {},
   "source": [
    "## Dataset preparation\n",
    "\n",
    "We have cropped the whole-well images (of size 12096×12096 pixels) into non-overlapping patches (of size 800×800 pixels), and labeled them with \"low\", \"optimal\", and \"high\". The image patches are stored in `./image_patches./(low|optimal|high)/S*/patch*.png`, where `S*` is the index of the well where it belongs. Now we load the image patches and randomly divide them into a training set and a test set."
   ]
  },
  {
   "cell_type": "code",
   "execution_count": 3,
   "id": "5b132cc5",
   "metadata": {},
   "outputs": [
    {
     "data": {
      "text/html": [
       "<div>\n",
       "<style scoped>\n",
       "    .dataframe tbody tr th:only-of-type {\n",
       "        vertical-align: middle;\n",
       "    }\n",
       "\n",
       "    .dataframe tbody tr th {\n",
       "        vertical-align: top;\n",
       "    }\n",
       "\n",
       "    .dataframe thead th {\n",
       "        text-align: right;\n",
       "    }\n",
       "</style>\n",
       "<table border=\"1\" class=\"dataframe\">\n",
       "  <thead>\n",
       "    <tr style=\"text-align: right;\">\n",
       "      <th></th>\n",
       "      <th>filedir</th>\n",
       "      <th>S_id</th>\n",
       "      <th>label</th>\n",
       "    </tr>\n",
       "  </thead>\n",
       "  <tbody>\n",
       "    <tr>\n",
       "      <th>0</th>\n",
       "      <td>./image_patches/low\\S01\\patch01.png</td>\n",
       "      <td>S01</td>\n",
       "      <td>low</td>\n",
       "    </tr>\n",
       "    <tr>\n",
       "      <th>1</th>\n",
       "      <td>./image_patches/low\\S01\\patch02.png</td>\n",
       "      <td>S01</td>\n",
       "      <td>low</td>\n",
       "    </tr>\n",
       "    <tr>\n",
       "      <th>2</th>\n",
       "      <td>./image_patches/low\\S01\\patch03.png</td>\n",
       "      <td>S01</td>\n",
       "      <td>low</td>\n",
       "    </tr>\n",
       "    <tr>\n",
       "      <th>3</th>\n",
       "      <td>./image_patches/low\\S01\\patch04.png</td>\n",
       "      <td>S01</td>\n",
       "      <td>low</td>\n",
       "    </tr>\n",
       "    <tr>\n",
       "      <th>4</th>\n",
       "      <td>./image_patches/low\\S01\\patch05.png</td>\n",
       "      <td>S01</td>\n",
       "      <td>low</td>\n",
       "    </tr>\n",
       "    <tr>\n",
       "      <th>...</th>\n",
       "      <td>...</td>\n",
       "      <td>...</td>\n",
       "      <td>...</td>\n",
       "    </tr>\n",
       "    <tr>\n",
       "      <th>4850</th>\n",
       "      <td>./image_patches/high\\S34\\patch95.png</td>\n",
       "      <td>S34</td>\n",
       "      <td>high</td>\n",
       "    </tr>\n",
       "    <tr>\n",
       "      <th>4851</th>\n",
       "      <td>./image_patches/high\\S34\\patch96.png</td>\n",
       "      <td>S34</td>\n",
       "      <td>high</td>\n",
       "    </tr>\n",
       "    <tr>\n",
       "      <th>4852</th>\n",
       "      <td>./image_patches/high\\S34\\patch97.png</td>\n",
       "      <td>S34</td>\n",
       "      <td>high</td>\n",
       "    </tr>\n",
       "    <tr>\n",
       "      <th>4853</th>\n",
       "      <td>./image_patches/high\\S34\\patch98.png</td>\n",
       "      <td>S34</td>\n",
       "      <td>high</td>\n",
       "    </tr>\n",
       "    <tr>\n",
       "      <th>4854</th>\n",
       "      <td>./image_patches/high\\S34\\patch99.png</td>\n",
       "      <td>S34</td>\n",
       "      <td>high</td>\n",
       "    </tr>\n",
       "  </tbody>\n",
       "</table>\n",
       "<p>4855 rows × 3 columns</p>\n",
       "</div>"
      ],
      "text/plain": [
       "                                   filedir S_id label\n",
       "0      ./image_patches/low\\S01\\patch01.png  S01   low\n",
       "1      ./image_patches/low\\S01\\patch02.png  S01   low\n",
       "2      ./image_patches/low\\S01\\patch03.png  S01   low\n",
       "3      ./image_patches/low\\S01\\patch04.png  S01   low\n",
       "4      ./image_patches/low\\S01\\patch05.png  S01   low\n",
       "...                                    ...  ...   ...\n",
       "4850  ./image_patches/high\\S34\\patch95.png  S34  high\n",
       "4851  ./image_patches/high\\S34\\patch96.png  S34  high\n",
       "4852  ./image_patches/high\\S34\\patch97.png  S34  high\n",
       "4853  ./image_patches/high\\S34\\patch98.png  S34  high\n",
       "4854  ./image_patches/high\\S34\\patch99.png  S34  high\n",
       "\n",
       "[4855 rows x 3 columns]"
      ]
     },
     "execution_count": 3,
     "metadata": {},
     "output_type": "execute_result"
    }
   ],
   "source": [
    "# load the directories of image patches\n",
    "\n",
    "category = [\"low\", \"optimal\", \"high\"]\n",
    "\n",
    "data = []\n",
    "\n",
    "for c in category:\n",
    "    for filename in glob.glob(\"./image_patches/%s/*/*.png\" % (c, )):\n",
    "        well_id = os.path.split(os.path.split(filename)[0])[1]\n",
    "        data.append( (filename, well_id, c) )\n",
    "\n",
    "# create a pandas DataFrame\n",
    "df = pd.DataFrame(data, columns = [\"filedir\", \"S_id\", \"label\"])\n",
    "\n",
    "df"
   ]
  },
  {
   "cell_type": "code",
   "execution_count": 4,
   "id": "91c4db8d",
   "metadata": {},
   "outputs": [
    {
     "name": "stdout",
     "output_type": "stream",
     "text": [
      "Training set n =  3398\n",
      "Test set n =  1457\n"
     ]
    }
   ],
   "source": [
    "# split the dataset into a training set and a test set\n",
    "df_train, df_test = train_test_split(df, train_size=0.7, random_state=seed)\n",
    "\n",
    "print(\"Training set n = \", len(df_train))\n",
    "print(\"Test set n = \", len(df_test))"
   ]
  },
  {
   "cell_type": "code",
   "execution_count": 5,
   "id": "d85237e5",
   "metadata": {},
   "outputs": [],
   "source": [
    "# save the dataset\n",
    "\n",
    "df.to_csv(\"dataset.csv\")\n",
    "df.to_pickle(\"dataset.pkl\")\n",
    "\n",
    "df_train.to_csv(\"dataset_train.csv\")\n",
    "df_train.to_pickle(\"dataset_train.pkl\")\n",
    "\n",
    "df_test.to_csv(\"dataset_test.csv\")\n",
    "df_test.to_pickle(\"dataset_test.pkl\")"
   ]
  },
  {
   "cell_type": "markdown",
   "id": "7ce6bc1c",
   "metadata": {},
   "source": [
    "## Feature extraction\n",
    "\n",
    "We then define a feature extraction module named `SIFT_feature`, with method `.fit()` and `.transform()`, following the convention of the machine learning modules in the `sklearn` package. The details about the class `SIFT_feature` can be viewed in [algutils.py](./algutils.py).\n",
    "\n",
    "**Note:** This section may take a long time (~1-2 hours). We have provided our precomputed SIFT features in the dataframe `dataset_train_with_SIFT.pkl`, so you can simply skip this section and jump to run the next section \"Feature visualization\"."
   ]
  },
  {
   "cell_type": "code",
   "execution_count": 5,
   "id": "d9221699",
   "metadata": {},
   "outputs": [],
   "source": [
    "from algutils import SIFT_feature"
   ]
  },
  {
   "cell_type": "code",
   "execution_count": 6,
   "id": "04caec6e",
   "metadata": {},
   "outputs": [],
   "source": [
    "sift = SIFT_feature(random_state = seed)"
   ]
  },
  {
   "cell_type": "code",
   "execution_count": 7,
   "id": "9132ce6f",
   "metadata": {},
   "outputs": [
    {
     "name": "stderr",
     "output_type": "stream",
     "text": [
      "  0%|                                                                                 | 1/3398 [00:00<07:44,  7.32it/s]"
     ]
    },
    {
     "name": "stdout",
     "output_type": "stream",
     "text": [
      "Compute SIFT ...\n"
     ]
    },
    {
     "name": "stderr",
     "output_type": "stream",
     "text": [
      "100%|██████████████████████████████████████████████████████████████████████████████| 3398/3398 [09:58<00:00,  5.68it/s]\n"
     ]
    },
    {
     "name": "stdout",
     "output_type": "stream",
     "text": [
      "Perform Kmeans ...\n",
      "Done.\n"
     ]
    }
   ],
   "source": [
    "# fit the feature extractor on the training set.\n",
    "\n",
    "sift.fit(df_train[\"filedir\"])"
   ]
  },
  {
   "cell_type": "code",
   "execution_count": 8,
   "id": "738e5224",
   "metadata": {},
   "outputs": [],
   "source": [
    "# save the feature extractor to disk\n",
    "\n",
    "sift.save(\"feature_extractor.pkl\")"
   ]
  },
  {
   "cell_type": "code",
   "execution_count": 9,
   "id": "4f4e1357",
   "metadata": {},
   "outputs": [
    {
     "name": "stderr",
     "output_type": "stream",
     "text": [
      "  0%|                                                                                 | 1/3398 [00:00<06:19,  8.94it/s]"
     ]
    },
    {
     "name": "stdout",
     "output_type": "stream",
     "text": [
      "Compute features for the training set...\n"
     ]
    },
    {
     "name": "stderr",
     "output_type": "stream",
     "text": [
      "100%|██████████████████████████████████████████████████████████████████████████████| 3398/3398 [14:25<00:00,  3.92it/s]\n",
      "d:\\python\\python39\\lib\\site-packages\\pandas\\core\\indexing.py:1667: SettingWithCopyWarning: \n",
      "A value is trying to be set on a copy of a slice from a DataFrame.\n",
      "Try using .loc[row_indexer,col_indexer] = value instead\n",
      "\n",
      "See the caveats in the documentation: https://pandas.pydata.org/pandas-docs/stable/user_guide/indexing.html#returning-a-view-versus-a-copy\n",
      "  self.obj[key] = value\n"
     ]
    }
   ],
   "source": [
    "# compute features on the training set\n",
    "\n",
    "print(\"Compute features for the training set...\")\n",
    "df_train.loc[:, \"feature_SIFT\"] = list( sift.transform(df_train[\"filedir\"]) )"
   ]
  },
  {
   "cell_type": "code",
   "execution_count": 10,
   "id": "96831453",
   "metadata": {},
   "outputs": [],
   "source": [
    "# update the training dataset\n",
    "\n",
    "df_train.to_csv(\"dataset_train_with_SIFT.csv\")\n",
    "df_train.to_pickle(\"dataset_train_with_SIFT.pkl\")"
   ]
  },
  {
   "cell_type": "markdown",
   "id": "d44d19db",
   "metadata": {},
   "source": [
    "## Feature visualization\n",
    "\n",
    "We further visualize the feature space using t-SNE (**Supplementary Fig. S15d**). One can see that the STFT local features can clearly separate the \"low\", \"optimal\", and \"high\" groups."
   ]
  },
  {
   "cell_type": "code",
   "execution_count": 6,
   "id": "b4f480b4",
   "metadata": {},
   "outputs": [
    {
     "name": "stdout",
     "output_type": "stream",
     "text": [
      "[t-SNE] Computing 181 nearest neighbors...\n",
      "[t-SNE] Indexed 3398 samples in 0.001s...\n",
      "[t-SNE] Computed neighbors for 3398 samples in 0.460s...\n",
      "[t-SNE] Computed conditional probabilities for sample 1000 / 3398\n",
      "[t-SNE] Computed conditional probabilities for sample 2000 / 3398\n",
      "[t-SNE] Computed conditional probabilities for sample 3000 / 3398\n",
      "[t-SNE] Computed conditional probabilities for sample 3398 / 3398\n",
      "[t-SNE] Mean sigma: 0.005203\n",
      "[t-SNE] KL divergence after 250 iterations with early exaggeration: 65.665642\n",
      "[t-SNE] KL divergence after 1000 iterations: 0.907804\n"
     ]
    }
   ],
   "source": [
    "from sklearn.manifold import TSNE\n",
    "\n",
    "df_train = pd.read_pickle(\"./dataset_train_with_SIFT.pkl\")\n",
    "\n",
    "# Perform dimensional reduction by t-SNE\n",
    "tsne = TSNE(n_components=2, random_state=seed, verbose=1, perplexity=60)\n",
    "X_embedded = tsne.fit_transform(np.stack(df_train[\"feature_SIFT\"]))"
   ]
  },
  {
   "cell_type": "code",
   "execution_count": 8,
   "id": "6d68b5f6",
   "metadata": {},
   "outputs": [
    {
     "data": {
      "image/png": "[encoded data removed]",
      "text/plain": [
       "<Figure size 396x324 with 1 Axes>"
      ]
     },
     "metadata": {
      "needs_background": "light"
     },
     "output_type": "display_data"
    }
   ],
   "source": [
    "from matplotlib import pyplot as plt\n",
    "\n",
    "colormap = {\n",
    "    \"optimal\": [1, 1, 1],\n",
    "    \"high\" : [1, 127/255, 127/255],\n",
    "    \"low\": [127/255, 127/255, 1],\n",
    "}\n",
    "edgewidth = {\n",
    "    \"optimal\": 0.3,\n",
    "    \"high\" : 0.1,\n",
    "    \"low\": 0.1,\n",
    "}\n",
    "edgecolor = {\n",
    "    \"optimal\": \"black\",\n",
    "    \"high\" : \"darkred\",\n",
    "    \"low\": \"darkblue\",\n",
    "}\n",
    "\n",
    "plt.figure(figsize=(5.5, 4.5))\n",
    "\n",
    "for label in [\"low\", \"optimal\", \"high\"]:\n",
    "\n",
    "    plt.scatter(X_embedded[df_train.label == label, 0], \n",
    "                X_embedded[df_train.label == label, 1], \n",
    "                s = 20, alpha = 1, marker=\"o\",\n",
    "                color = colormap[label],\n",
    "                linewidths=edgewidth[label], \n",
    "                edgecolors=edgecolor[label], \n",
    "                label = label,\n",
    "               )\n",
    "\n",
    "plt.xlim(-65, 65)\n",
    "plt.ylim(-50, 50)\n",
    "plt.legend(loc = \"lower left\", fontsize = 15)\n",
    "plt.xticks([-40,-20, 0, 20, 40], fontsize = 14)\n",
    "plt.yticks([-40, -20, 0,20, 40], fontsize = 14)\n",
    "plt.tight_layout()\n",
    "plt.show()"
   ]
  },
  {
   "cell_type": "code",
   "execution_count": null,
   "id": "fba1cd72",
   "metadata": {},
   "outputs": [],
   "source": []
  }
 ],
 "metadata": {
  "kernelspec": {
   "display_name": "Python 3",
   "language": "python",
   "name": "python3"
  },
  "language_info": {
   "codemirror_mode": {
    "name": "ipython",
    "version": 3
   },
   "file_extension": ".py",
   "mimetype": "text/x-python",
   "name": "python",
   "nbconvert_exporter": "python",
   "pygments_lexer": "ipython3",
   "version": "3.9.5"
  }
 },
 "nbformat": 4,
 "nbformat_minor": 5
}
