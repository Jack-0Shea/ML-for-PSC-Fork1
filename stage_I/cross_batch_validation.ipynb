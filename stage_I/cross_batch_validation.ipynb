{
 "cells": [
  {
   "cell_type": "markdown",
   "id": "a46f8cb4",
   "metadata": {},
   "source": [
    "# Cross-batch validation\n",
    "\n",
    "To test the model’s generalization ability to new batches, we conduct a cross-batch validation under a CHIR duration of 24h. In each round of the cross-batch validation, the model is trained on three batches and tested on the remaining one. On the test batch, We compare the predicted \"Deviation Score\" with the true \"ΔCHIR concentration\" for each CHIR concentration level (**Supplementary Fig. S10g**)."
   ]
  },
  {
   "cell_type": "code",
   "execution_count": 1,
   "id": "d03fc6ec",
   "metadata": {},
   "outputs": [],
   "source": [
    "import numpy as np\n",
    "import pandas as pd\n",
    "import sklearn\n",
    "from sklearn.linear_model import LogisticRegression\n",
    "from sklearn.preprocessing import StandardScaler\n",
    "from sklearn.feature_selection import SelectKBest, f_classif\n",
    "from sklearn.pipeline import Pipeline"
   ]
  },
  {
   "cell_type": "code",
   "execution_count": 2,
   "id": "ea55bbe9",
   "metadata": {},
   "outputs": [],
   "source": [
    "# load the dataset\n",
    "df = pd.read_pickle(\"./data/dataset.pkl\")"
   ]
  },
  {
   "cell_type": "code",
   "execution_count": 3,
   "id": "0347510c",
   "metadata": {},
   "outputs": [],
   "source": [
    "batches = np.sort(df.batch_name.unique())\n",
    "\n",
    "result = [] # the predicted Deviation Scores\n",
    "delta_concs = [] # the true ΔCHIR concentration\n",
    "\n",
    "feature_selectors = []\n",
    "\n",
    "# iterate over each batch's testing turn\n",
    "for batch_name in batches:\n",
    "    \n",
    "    train_data = df[df.batch_name != batch_name]\n",
    "    test_data = df[df.batch_name == batch_name]\n",
    "    \n",
    "    # define the machine learning classifier object\n",
    "\n",
    "    lr = LogisticRegression(penalty = \"elasticnet\", l1_ratio = 0.1, \n",
    "                            solver = \"saga\", class_weight=\"balanced\",\n",
    "                             C = 20, max_iter=20000, random_state=12345) \n",
    "    feature_selector = SelectKBest(f_classif, k = 4)\n",
    "    clf = Pipeline([('scaler', StandardScaler()), \n",
    "                    (\"feature selection\", feature_selector),\n",
    "                    ('classifier', lr)])\n",
    "\n",
    "    clf.fit(train_data.feature.to_list(), train_data.label_24.to_list())\n",
    "    feature_selectors.append(feature_selector)\n",
    "    \n",
    "    score = {}\n",
    "    delta_conc = {}\n",
    "    for conc in np.sort(test_data.CHIR_conc.unique()):\n",
    "        pred_label = clf.predict(test_data[test_data.CHIR_conc == conc].feature.to_list())\n",
    "        score[\"%2d μM\" % conc] = (pred_label == \"high\").mean() - (pred_label == \"low\").mean()\n",
    "        delta_conc[\"%2d μM\" % conc] = test_data.loc[test_data.CHIR_conc == conc, \n",
    "                                                   \"delta_CHIR_conc_24\"].iloc[0]\n",
    "    \n",
    "    result.append(score)\n",
    "    delta_concs.append(delta_conc)\n",
    "\n",
    "# save the predicted Deviation Scores and the True ΔCHIR concentrations to a pandas DataFrame\n",
    "result = pd.DataFrame(result, \n",
    "                      index = batches\n",
    "                     )\n",
    "result = result[sorted(result.columns)]\n",
    "\n",
    "delta_concs = pd.DataFrame(delta_concs, \n",
    "                      index = batches\n",
    "                     )\n",
    "delta_concs = delta_concs[sorted(delta_concs.columns)]"
   ]
  },
  {
   "cell_type": "code",
   "execution_count": 4,
   "id": "fa2567c9",
   "metadata": {},
   "outputs": [
    {
     "data": {
      "text/html": [
       "<div>\n",
       "<style scoped>\n",
       "    .dataframe tbody tr th:only-of-type {\n",
       "        vertical-align: middle;\n",
       "    }\n",
       "\n",
       "    .dataframe tbody tr th {\n",
       "        vertical-align: top;\n",
       "    }\n",
       "\n",
       "    .dataframe thead th {\n",
       "        text-align: right;\n",
       "    }\n",
       "</style>\n",
       "<table border=\"1\" class=\"dataframe\">\n",
       "  <thead>\n",
       "    <tr style=\"text-align: right;\">\n",
       "      <th></th>\n",
       "      <th>2 μM</th>\n",
       "      <th>4 μM</th>\n",
       "      <th>6 μM</th>\n",
       "      <th>8 μM</th>\n",
       "      <th>10 μM</th>\n",
       "      <th>12 μM</th>\n",
       "    </tr>\n",
       "  </thead>\n",
       "  <tbody>\n",
       "    <tr>\n",
       "      <th>CD01-1</th>\n",
       "      <td>NaN</td>\n",
       "      <td>-0.583333</td>\n",
       "      <td>-0.166667</td>\n",
       "      <td>-0.125000</td>\n",
       "      <td>0.166667</td>\n",
       "      <td>NaN</td>\n",
       "    </tr>\n",
       "    <tr>\n",
       "      <th>CD01-2</th>\n",
       "      <td>NaN</td>\n",
       "      <td>0.000000</td>\n",
       "      <td>-0.083333</td>\n",
       "      <td>-0.041667</td>\n",
       "      <td>0.000000</td>\n",
       "      <td>NaN</td>\n",
       "    </tr>\n",
       "    <tr>\n",
       "      <th>CD01-3</th>\n",
       "      <td>-0.8125</td>\n",
       "      <td>-0.375000</td>\n",
       "      <td>0.000000</td>\n",
       "      <td>0.250000</td>\n",
       "      <td>0.437500</td>\n",
       "      <td>0.5625</td>\n",
       "    </tr>\n",
       "    <tr>\n",
       "      <th>CD01-4</th>\n",
       "      <td>0.0000</td>\n",
       "      <td>0.000000</td>\n",
       "      <td>0.000000</td>\n",
       "      <td>0.000000</td>\n",
       "      <td>0.000000</td>\n",
       "      <td>0.0000</td>\n",
       "    </tr>\n",
       "  </tbody>\n",
       "</table>\n",
       "</div>"
      ],
      "text/plain": [
       "          2 μM      4 μM      6 μM      8 μM     10 μM   12 μM\n",
       "CD01-1     NaN -0.583333 -0.166667 -0.125000  0.166667     NaN\n",
       "CD01-2     NaN  0.000000 -0.083333 -0.041667  0.000000     NaN\n",
       "CD01-3 -0.8125 -0.375000  0.000000  0.250000  0.437500  0.5625\n",
       "CD01-4  0.0000  0.000000  0.000000  0.000000  0.000000  0.0000"
      ]
     },
     "execution_count": 4,
     "metadata": {},
     "output_type": "execute_result"
    }
   ],
   "source": [
    "# The predicted Deviation Scores on each batch\n",
    "result"
   ]
  },
  {
   "cell_type": "code",
   "execution_count": 5,
   "id": "3a76b113",
   "metadata": {},
   "outputs": [
    {
     "data": {
      "text/html": [
       "<div>\n",
       "<style scoped>\n",
       "    .dataframe tbody tr th:only-of-type {\n",
       "        vertical-align: middle;\n",
       "    }\n",
       "\n",
       "    .dataframe tbody tr th {\n",
       "        vertical-align: top;\n",
       "    }\n",
       "\n",
       "    .dataframe thead th {\n",
       "        text-align: right;\n",
       "    }\n",
       "</style>\n",
       "<table border=\"1\" class=\"dataframe\">\n",
       "  <thead>\n",
       "    <tr style=\"text-align: right;\">\n",
       "      <th></th>\n",
       "      <th>2 μM</th>\n",
       "      <th>4 μM</th>\n",
       "      <th>6 μM</th>\n",
       "      <th>8 μM</th>\n",
       "      <th>10 μM</th>\n",
       "      <th>12 μM</th>\n",
       "    </tr>\n",
       "  </thead>\n",
       "  <tbody>\n",
       "    <tr>\n",
       "      <th>CD01-1</th>\n",
       "      <td>NaN</td>\n",
       "      <td>-2</td>\n",
       "      <td>0</td>\n",
       "      <td>0</td>\n",
       "      <td>2</td>\n",
       "      <td>NaN</td>\n",
       "    </tr>\n",
       "    <tr>\n",
       "      <th>CD01-2</th>\n",
       "      <td>NaN</td>\n",
       "      <td>0</td>\n",
       "      <td>0</td>\n",
       "      <td>0</td>\n",
       "      <td>0</td>\n",
       "      <td>NaN</td>\n",
       "    </tr>\n",
       "    <tr>\n",
       "      <th>CD01-3</th>\n",
       "      <td>-4.0</td>\n",
       "      <td>-2</td>\n",
       "      <td>0</td>\n",
       "      <td>0</td>\n",
       "      <td>0</td>\n",
       "      <td>2.0</td>\n",
       "    </tr>\n",
       "    <tr>\n",
       "      <th>CD01-4</th>\n",
       "      <td>-2.0</td>\n",
       "      <td>0</td>\n",
       "      <td>0</td>\n",
       "      <td>0</td>\n",
       "      <td>0</td>\n",
       "      <td>0.0</td>\n",
       "    </tr>\n",
       "  </tbody>\n",
       "</table>\n",
       "</div>"
      ],
      "text/plain": [
       "         2 μM   4 μM   6 μM   8 μM  10 μM  12 μM\n",
       "CD01-1    NaN     -2      0      0      2    NaN\n",
       "CD01-2    NaN      0      0      0      0    NaN\n",
       "CD01-3   -4.0     -2      0      0      0    2.0\n",
       "CD01-4   -2.0      0      0      0      0    0.0"
      ]
     },
     "execution_count": 5,
     "metadata": {},
     "output_type": "execute_result"
    }
   ],
   "source": [
    "# The true ΔCHIR concentrations on each batch\n",
    "delta_concs"
   ]
  },
  {
   "cell_type": "markdown",
   "id": "5d7dc649",
   "metadata": {},
   "source": [
    "We further compute the Pearson's *r* between the predicted Deviation Scores and the true ΔCHIR concentrations and show the correlation plot (**Fig. 4g**)."
   ]
  },
  {
   "cell_type": "code",
   "execution_count": 6,
   "id": "8374a6b6",
   "metadata": {},
   "outputs": [
    {
     "name": "stdout",
     "output_type": "stream",
     "text": [
      "Pearson's r =  0.8237556095777329\n",
      "p =  8.061667917742772e-06\n"
     ]
    }
   ],
   "source": [
    "import numpy as np\n",
    "from scipy import stats\n",
    "\n",
    "### Compute Pearson's r with the Pvalue.\n",
    "\n",
    "X = delta_concs.to_numpy().ravel()\n",
    "X = X[np.logical_not(np.isnan(X))]\n",
    "\n",
    "Y = result.to_numpy().ravel()\n",
    "Y = Y[np.logical_not(np.isnan(Y))]\n",
    "\n",
    "r, p = stats.pearsonr(X, Y)\n",
    "print(\"Pearson's r = \", r)\n",
    "print(\"p = \", p)\n",
    "\n",
    "# Assume linear dependence: Y = kX + b. Estimate k and b (for plotting the trend line)\n",
    "k, b = np.polyfit(X, Y, 1)"
   ]
  },
  {
   "cell_type": "code",
   "execution_count": 7,
   "id": "08149408",
   "metadata": {},
   "outputs": [
    {
     "data": {
      "image/png": "[encoded data removed]",
      "text/plain": [
       "<Figure size 360x576 with 1 Axes>"
      ]
     },
     "metadata": {
      "needs_background": "light"
     },
     "output_type": "display_data"
    }
   ],
   "source": [
    "from matplotlib import pyplot as plt\n",
    "\n",
    "### Obtain the correlation plot.\n",
    "\n",
    "plt.figure(figsize = (5, 8))\n",
    "\n",
    "# Plot the dotted trend line Y = kX + b.\n",
    "plt.plot([-4, 2], [-4 * k + b, 2 * k + b], color = \"black\", linewidth =1, linestyle = \":\")\n",
    "\n",
    "# plot the points for each batch\n",
    "\n",
    "colors = {\"CD01-1\":\"C1\",\n",
    "          \"CD01-2\":\"C3\",\n",
    "          \"CD01-3\":\"C0\",\n",
    "          \"CD01-4\":\"C4\"\n",
    "         }\n",
    "\n",
    "for batch_name in batches:\n",
    "    X = delta_concs.loc[batch_name]\n",
    "    X = X[X.notna()]\n",
    "    Y = result.loc[batch_name]\n",
    "    Y = Y[Y.notna()]\n",
    "    plt.plot(X, Y, ms = 8, color = colors[batch_name], \n",
    "             linewidth = 0, marker = \"*\", \n",
    "             label = batch_name, alpha = 0.9)\n",
    "\n",
    "plt.xticks([-4, -2, 0, 2], fontsize = 18)\n",
    "plt.yticks(fontsize = 18)\n",
    "plt.ylim([-1, 1])\n",
    "plt.xlim([-4.5, 2.5])\n",
    "plt.title(\"Predicted bias score \\nvs. $\\Delta$ CHIR concentration\",fontsize = 18, pad = 20)\n",
    "plt.xlabel(\"$\\Delta$ CHIR concentration\", fontsize = 18)\n",
    "plt.ylabel(\"Predicted Deviation Score\", fontsize = 18)\n",
    "plt.legend(loc = \"upper left\", fontsize = 18)\n",
    "plt.show()"
   ]
  },
  {
   "cell_type": "markdown",
   "id": "a94cb935",
   "metadata": {},
   "source": [
    "Note that during cross-batch validation, feature selection is performed on each round's training set. We can also show the features selected at each round (**Supplementary Fig. S10h**)."
   ]
  },
  {
   "cell_type": "code",
   "execution_count": 8,
   "id": "5f8b67a2",
   "metadata": {},
   "outputs": [
    {
     "name": "stdout",
     "output_type": "stream",
     "text": [
      "Round 1:\n",
      "['Circumference (pre-phase)', 'Optical Flow (pre-phase)', 'Optical Flow (mid-phase)', 'Optical Flow (post-phase)']\n",
      "Round 2:\n",
      "['Circumference (post-phase)', 'Optical Flow (pre-phase)', 'Optical Flow (mid-phase)', 'Optical Flow (post-phase)']\n",
      "Round 3:\n",
      "['Cell Brightness (post-phase)', 'Circumference (mid-phase)', 'Circumference (post-phase)', 'Optical Flow (pre-phase)']\n",
      "Round 4:\n",
      "['Cell Brightness (post-phase)', 'Circumference (post-phase)', 'Optical Flow (pre-phase)', 'Optical Flow (post-phase)']\n"
     ]
    }
   ],
   "source": [
    "with open(\"./data/feature_name.txt\") as f:\n",
    "    feature_name_list = f.readlines()\n",
    "feature_name_list = list(filter(lambda st: st != \"\", feature_name_list))\n",
    "for i in range(len(feature_name_list)):\n",
    "    feature_name_list[i] = feature_name_list[i].strip(\"\\n\")\n",
    "feature_name_list = np.array(feature_name_list)\n",
    "\n",
    "for i in range(4):\n",
    "    \n",
    "    print(\"Round %d:\" % (i+1))\n",
    "    print(list(feature_name_list[feature_selectors[i].get_support().nonzero()]))"
   ]
  },
  {
   "cell_type": "code",
   "execution_count": null,
   "id": "01fafe57",
   "metadata": {},
   "outputs": [],
   "source": []
  }
 ],
 "metadata": {
  "kernelspec": {
   "display_name": "Python 3",
   "language": "python",
   "name": "python3"
  },
  "language_info": {
   "codemirror_mode": {
    "name": "ipython",
    "version": 3
   },
   "file_extension": ".py",
   "mimetype": "text/x-python",
   "name": "python",
   "nbconvert_exporter": "python",
   "pygments_lexer": "ipython3",
   "version": "3.9.5"
  }
 },
 "nbformat": 4,
 "nbformat_minor": 5
}
