{
 "cells": [
  {
   "cell_type": "markdown",
   "id": "403d632e",
   "metadata": {},
   "source": [
    "# Machine learning-based CHIR dose assessment and adjustment\n",
    "\n",
    "In this notebook, we provide code for the machine learning-based CHIR dose assessment. We model the problem as a classification problem, where a classifier will learn to predict each well as \"low\", \"optimal\", or \"high\" under a given CHIR duration. We use the logistic regression classifier in our experiments. "
   ]
  },
  {
   "cell_type": "code",
   "execution_count": 1,
   "id": "62da1d17",
   "metadata": {},
   "outputs": [],
   "source": [
    "import numpy as np\n",
    "import pandas as pd\n",
    "import sklearn\n",
    "from sklearn.linear_model import LogisticRegression\n",
    "from sklearn.preprocessing import StandardScaler\n",
    "from sklearn.pipeline import Pipeline\n",
    "from sklearn.metrics import precision_score, recall_score, accuracy_score,roc_auc_score, auc,precision_recall_curve, roc_curve, f1_score\n",
    "from matplotlib import pyplot as plt"
   ]
  },
  {
   "cell_type": "code",
   "execution_count": 2,
   "id": "e0721027",
   "metadata": {},
   "outputs": [],
   "source": [
    "df = pd.read_pickle(\"./data/dataset.pkl\")\n",
    "df_train = pd.read_pickle(\"./data/dataset_train.pkl\")\n",
    "df_test = pd.read_pickle(\"./data/dataset_test.pkl\")"
   ]
  },
  {
   "cell_type": "markdown",
   "id": "3359d2e9",
   "metadata": {},
   "source": [
    "## Classification performance\n",
    "\n",
    "We evaluate the performance of the logistic regression classifier by accuracy, precision, recall, F1-score, and AUC, under CHIR duration = 24h, 36h, and 48h (**Fig. 4e**).  "
   ]
  },
  {
   "cell_type": "code",
   "execution_count": 3,
   "id": "afefa5a0",
   "metadata": {},
   "outputs": [],
   "source": [
    "def machine_learning(clf, X_train, y_train, X_test, y_test):\n",
    "    \n",
    "    clf.fit(X_train, y_train)\n",
    "    \n",
    "    y_pred = clf.predict(X_test)\n",
    "    y_prob = clf.predict_proba(X_test)\n",
    "    \n",
    "    acc = accuracy_score(y_test, y_pred)\n",
    "    precision = precision_score(y_test, y_pred, average=\"macro\")\n",
    "    recall = recall_score(y_test, y_pred, average=\"macro\")\n",
    "    f1 = f1_score(y_test, y_pred, average=\"macro\")\n",
    "    auc = roc_auc_score(y_test, y_prob, average=\"macro\", multi_class=\"ovr\")\n",
    "    \n",
    "    return {\n",
    "        \"Accuracy\" : acc, \n",
    "        \"Precision\" : precision, \n",
    "        \"Recall\": recall, \n",
    "        \"F1 score\": f1, \n",
    "        \"AUC\" : auc\n",
    "    }"
   ]
  },
  {
   "cell_type": "code",
   "execution_count": 4,
   "id": "b7dece8d",
   "metadata": {},
   "outputs": [],
   "source": [
    "# CHIR duration = 24h\n",
    "lr = LogisticRegression(penalty = \"l1\", solver = \"liblinear\", \n",
    "                        class_weight=\"balanced\", C = 4, max_iter=1000\n",
    "                       )\n",
    "clf_24 = Pipeline([('scaler', StandardScaler()), ('classifier', lr)])\n",
    "metrics_24 = machine_learning(clf_24,\n",
    "                             X_train = df_train.feature.to_list(), y_train = df_train.label_24.to_numpy(),\n",
    "                             X_test = df_test.feature.to_list(), y_test = df_test.label_24.to_numpy(),\n",
    "                            )\n",
    "\n",
    "# CHIR duration = 36h\n",
    "lr = LogisticRegression(penalty = \"l1\", solver = \"liblinear\", \n",
    "                        class_weight=\"balanced\", C = 8, max_iter=1000\n",
    "                       )\n",
    "clf_36 = Pipeline([('scaler', StandardScaler()), ('classifier', lr)])\n",
    "metrics_36 = machine_learning(clf_36,\n",
    "                             X_train = df_train.feature.to_list(), y_train = df_train.label_36.to_numpy(),\n",
    "                             X_test = df_test.feature.to_list(), y_test = df_test.label_36.to_numpy(),\n",
    "                            )\n",
    "\n",
    "# CHIR duration = 48h\n",
    "lr = LogisticRegression(penalty = \"l1\", solver = \"liblinear\", \n",
    "                        class_weight=\"balanced\", C = 8, max_iter=1000\n",
    "                       )\n",
    "clf_48 = Pipeline([('scaler', StandardScaler()), ('classifier', lr)])\n",
    "metrics_48 = machine_learning(clf_48,\n",
    "                             X_train = df_train.feature.to_list(), y_train = df_train.label_48.to_numpy(),\n",
    "                             X_test = df_test.feature.to_list(), y_test = df_test.label_48.to_numpy(),\n",
    "                            )\n",
    "\n",
    "# Put all the metrics in a table\n",
    "df = pd.DataFrame([metrics_24, metrics_36, metrics_48], \n",
    "                  index = [\"24h\", \"36h\", \"48h\"], \n",
    "                 )"
   ]
  },
  {
   "cell_type": "code",
   "execution_count": 5,
   "id": "36a3d344",
   "metadata": {},
   "outputs": [
    {
     "data": {
      "text/html": [
       "<div>\n",
       "<style scoped>\n",
       "    .dataframe tbody tr th:only-of-type {\n",
       "        vertical-align: middle;\n",
       "    }\n",
       "\n",
       "    .dataframe tbody tr th {\n",
       "        vertical-align: top;\n",
       "    }\n",
       "\n",
       "    .dataframe thead th {\n",
       "        text-align: right;\n",
       "    }\n",
       "</style>\n",
       "<table border=\"1\" class=\"dataframe\">\n",
       "  <thead>\n",
       "    <tr style=\"text-align: right;\">\n",
       "      <th></th>\n",
       "      <th>24h</th>\n",
       "      <th>36h</th>\n",
       "      <th>48h</th>\n",
       "    </tr>\n",
       "  </thead>\n",
       "  <tbody>\n",
       "    <tr>\n",
       "      <th>Accuracy</th>\n",
       "      <td>0.931034</td>\n",
       "      <td>0.844828</td>\n",
       "      <td>0.784483</td>\n",
       "    </tr>\n",
       "    <tr>\n",
       "      <th>Precision</th>\n",
       "      <td>0.886851</td>\n",
       "      <td>0.824045</td>\n",
       "      <td>0.758673</td>\n",
       "    </tr>\n",
       "    <tr>\n",
       "      <th>Recall</th>\n",
       "      <td>0.944697</td>\n",
       "      <td>0.815802</td>\n",
       "      <td>0.765378</td>\n",
       "    </tr>\n",
       "    <tr>\n",
       "      <th>F1 score</th>\n",
       "      <td>0.910936</td>\n",
       "      <td>0.819614</td>\n",
       "      <td>0.760143</td>\n",
       "    </tr>\n",
       "    <tr>\n",
       "      <th>AUC</th>\n",
       "      <td>0.971802</td>\n",
       "      <td>0.961135</td>\n",
       "      <td>0.945077</td>\n",
       "    </tr>\n",
       "  </tbody>\n",
       "</table>\n",
       "</div>"
      ],
      "text/plain": [
       "                24h       36h       48h\n",
       "Accuracy   0.931034  0.844828  0.784483\n",
       "Precision  0.886851  0.824045  0.758673\n",
       "Recall     0.944697  0.815802  0.765378\n",
       "F1 score   0.910936  0.819614  0.760143\n",
       "AUC        0.971802  0.961135  0.945077"
      ]
     },
     "execution_count": 5,
     "metadata": {},
     "output_type": "execute_result"
    }
   ],
   "source": [
    "df.T"
   ]
  },
  {
   "cell_type": "markdown",
   "id": "c156760f",
   "metadata": {},
   "source": [
    "## Feature selection\n",
    "\n",
    "We perform ANOVA-based feature selection to increase the generalization ability and robustness of the classification. The top four features with the most importance weights (i.e., $- \\log_{10} {P\\text{value}}$) are used to represent each well. Note that the feature importance weights should be derived on the training set. We again evaluate the classification performance using the same metrics (**Supplementary Fig. S10f**)."
   ]
  },
  {
   "cell_type": "code",
   "execution_count": 6,
   "id": "cb0ab362",
   "metadata": {},
   "outputs": [],
   "source": [
    "from sklearn.feature_selection import SelectKBest, f_classif\n",
    "\n",
    "# CHIR duration = 24h\n",
    "lr = LogisticRegression(penalty = \"l2\", solver = \"liblinear\", \n",
    "                        class_weight=\"balanced\", C = 10, max_iter=1000)\n",
    "feature_selector_24 = SelectKBest(f_classif, k = 4)\n",
    "clf_24_after_selection = Pipeline([('feature selection', feature_selector_24),\n",
    "                ('scaler', StandardScaler()), \n",
    "                ('classifier', lr)])\n",
    "metrics_24_after_selection = machine_learning(clf_24_after_selection,\n",
    "                             X_train = df_train.feature.to_list(), y_train = df_train.label_24.to_numpy(),\n",
    "                             X_test = df_test.feature.to_list(), y_test = df_test.label_24.to_numpy(),\n",
    "                            )\n",
    "\n",
    "# CHIR duration = 36h\n",
    "lr = LogisticRegression(penalty = \"l2\", solver = \"liblinear\", \n",
    "                         class_weight=\"balanced\", C = 10, max_iter=1000) \n",
    "feature_selector_36 = SelectKBest(f_classif, k = 4)\n",
    "clf_36_after_selection = Pipeline([('feature selection', feature_selector_36),\n",
    "                ('scaler', StandardScaler()), \n",
    "                ('classifier', lr)])\n",
    "metrics_36_after_selection = machine_learning(clf_36_after_selection,\n",
    "                             X_train = df_train.feature.to_list(), y_train = df_train.label_36.to_numpy(),\n",
    "                             X_test = df_test.feature.to_list(), y_test = df_test.label_36.to_numpy(),\n",
    "                            )\n",
    "\n",
    "# CHIR duration = 48h\n",
    "lr = LogisticRegression(penalty = \"l2\", solver = \"liblinear\",  \n",
    "                         class_weight=\"balanced\", C = 10, max_iter=1000) \n",
    "feature_selector_48 = SelectKBest(f_classif, k = 4)\n",
    "clf_48_after_selection = Pipeline([('feature selection', feature_selector_48),\n",
    "                ('scaler', StandardScaler()), \n",
    "                ('classifier', lr)])\n",
    "metrics_48_after_selection = machine_learning(clf_48_after_selection,\n",
    "                             X_train = df_train.feature.to_list(), y_train = df_train.label_48.to_numpy(),\n",
    "                             X_test = df_test.feature.to_list(), y_test = df_test.label_48.to_numpy(),\n",
    "                            )\n",
    "\n",
    "# Put all the metrics in a table\n",
    "df_after_selection = pd.DataFrame([metrics_24_after_selection,\n",
    "                                   metrics_36_after_selection,\n",
    "                                   metrics_48_after_selection\n",
    "                                  ], \n",
    "                                  index = [\"24h\", \"36h\", \"48h\"], \n",
    "                                 )"
   ]
  },
  {
   "cell_type": "code",
   "execution_count": 7,
   "id": "5d7c74fd",
   "metadata": {},
   "outputs": [
    {
     "data": {
      "text/html": [
       "<div>\n",
       "<style scoped>\n",
       "    .dataframe tbody tr th:only-of-type {\n",
       "        vertical-align: middle;\n",
       "    }\n",
       "\n",
       "    .dataframe tbody tr th {\n",
       "        vertical-align: top;\n",
       "    }\n",
       "\n",
       "    .dataframe thead th {\n",
       "        text-align: right;\n",
       "    }\n",
       "</style>\n",
       "<table border=\"1\" class=\"dataframe\">\n",
       "  <thead>\n",
       "    <tr style=\"text-align: right;\">\n",
       "      <th></th>\n",
       "      <th>24h</th>\n",
       "      <th>36h</th>\n",
       "      <th>48h</th>\n",
       "    </tr>\n",
       "  </thead>\n",
       "  <tbody>\n",
       "    <tr>\n",
       "      <th>Accuracy</th>\n",
       "      <td>0.810345</td>\n",
       "      <td>0.637931</td>\n",
       "      <td>0.663793</td>\n",
       "    </tr>\n",
       "    <tr>\n",
       "      <th>Precision</th>\n",
       "      <td>0.730057</td>\n",
       "      <td>0.578768</td>\n",
       "      <td>0.623623</td>\n",
       "    </tr>\n",
       "    <tr>\n",
       "      <th>Recall</th>\n",
       "      <td>0.752868</td>\n",
       "      <td>0.628402</td>\n",
       "      <td>0.683931</td>\n",
       "    </tr>\n",
       "    <tr>\n",
       "      <th>F1 score</th>\n",
       "      <td>0.737568</td>\n",
       "      <td>0.593514</td>\n",
       "      <td>0.639017</td>\n",
       "    </tr>\n",
       "    <tr>\n",
       "      <th>AUC</th>\n",
       "      <td>0.904221</td>\n",
       "      <td>0.828751</td>\n",
       "      <td>0.788847</td>\n",
       "    </tr>\n",
       "  </tbody>\n",
       "</table>\n",
       "</div>"
      ],
      "text/plain": [
       "                24h       36h       48h\n",
       "Accuracy   0.810345  0.637931  0.663793\n",
       "Precision  0.730057  0.578768  0.623623\n",
       "Recall     0.752868  0.628402  0.683931\n",
       "F1 score   0.737568  0.593514  0.639017\n",
       "AUC        0.904221  0.828751  0.788847"
      ]
     },
     "execution_count": 7,
     "metadata": {},
     "output_type": "execute_result"
    }
   ],
   "source": [
    "df_after_selection.T"
   ]
  },
  {
   "cell_type": "markdown",
   "id": "9d72a571",
   "metadata": {},
   "source": [
    "We can also visualize the feature importance. Here we show the feature importance for CHIR duration = 24h (**Supplementary Fig. S10b**). "
   ]
  },
  {
   "cell_type": "code",
   "execution_count": 8,
   "id": "16ce72f0",
   "metadata": {},
   "outputs": [],
   "source": [
    "with open(\"./data/feature_name.txt\") as f:\n",
    "    feature_name_list = f.readlines()\n",
    "feature_name_list = list(filter(lambda st: st != \"\", feature_name_list))\n",
    "for i in range(len(feature_name_list)):\n",
    "    feature_name_list[i] = feature_name_list[i].strip(\"\\n\")"
   ]
  },
  {
   "cell_type": "code",
   "execution_count": 9,
   "id": "cb8f91eb",
   "metadata": {},
   "outputs": [
    {
     "data": {
      "image/png": "[encoded data removed]",
      "text/plain": [
       "<Figure size 720x504 with 1 Axes>"
      ]
     },
     "metadata": {
      "needs_background": "light"
     },
     "output_type": "display_data"
    }
   ],
   "source": [
    "selected_idx, pvalues = feature_selector_24.get_support().nonzero(), feature_selector_24.pvalues_\n",
    "\n",
    "sorted_idx = np.argsort(pvalues)[::-1]\n",
    "importance = -np.log10(pvalues)\n",
    "sorted_importance = importance[sorted_idx]\n",
    "sorted_label = np.array([feature_name_list[i] for i in sorted_idx])\n",
    "\n",
    "# plot the bar chart.\n",
    "plt.figure(figsize=(10, 7))\n",
    "plt.barh(range(21), sorted_importance, color = [(185/255, 187/255, 194/255)]*17 + [(146/255, 189/255, 111/255)]*4)\n",
    "plt.yticks(range(21), sorted_label, fontsize=16)\n",
    "plt.xticks(fontsize = 13)\n",
    "plt.xlabel(\"-log$_{10}$(pvalue)\", fontsize=18)\n",
    "plt.title(\"Feature importance (CHIR duration = 24h)\", fontsize=18)\n",
    "plt.tight_layout()\n",
    "plt.show()"
   ]
  },
  {
   "cell_type": "markdown",
   "id": "aa325729",
   "metadata": {},
   "source": [
    "## Deviation Scores\n",
    "\n",
    "The trained classifer can also provide guidance for CHIR dose adjust,ment. Concretely, the classifier can predict a \"Deviation Score\" for each CHIR concentration $c$ under a given CHIR concentration. Let $N_c$ be the number of wells with concentration $c$, among which $N_c^\\text{low}, N_c^\\text{optimal}, N_c^\\text{high}$ wells are predicted as low, optimal, and high, respectively. The Deviation Score is defined by $(N_c^\\text{high} - N_c^\\text{low}) / N_c$, ranging from -1 to 1, which could reflect the deviation of the CHIR concentration from the optimal conditions. \n",
    "\n",
    "We computed the Deviation Scores for each CHIR dose applied in batch CD01-1 (**Fig. 4f**). One can see that the predicted Deviation Scores matched with the true \"ΔCHIR concentration\". "
   ]
  },
  {
   "cell_type": "code",
   "execution_count": 10,
   "id": "ce168441",
   "metadata": {},
   "outputs": [],
   "source": [
    "deviation_scores = [] # the predicted deviation scores\n",
    "delta_concs = [] # the true ΔCHIR concentration\n",
    "\n",
    "clfs = {24:clf_24, 36:clf_36, 48:clf_48}\n",
    "test_batch = df_test[df_test.batch_name == \"CD01-1\"]\n",
    "CHIR_concs = np.sort(test_batch.CHIR_conc.unique())\n",
    "\n",
    "for duration in (24, 36, 48):\n",
    "    \n",
    "    clf = clfs[duration]\n",
    "    score = {}\n",
    "    delta_conc = {}\n",
    "    for concentration in CHIR_concs:\n",
    "        pred_label = clf.predict(test_batch[test_batch.CHIR_conc == concentration].feature.to_list())\n",
    "        score[\"%d μM\" % concentration] = (pred_label == \"high\").mean() - (pred_label == \"low\").mean()\n",
    "        delta_conc[\"%d μM\" % concentration] = test_batch.loc[test_batch.CHIR_conc == concentration, \n",
    "                                                         \"delta_CHIR_conc_%d\" % duration\n",
    "                                                        ].iloc[0]\n",
    "    \n",
    "    deviation_scores.append(score)\n",
    "    delta_concs.append(delta_conc)\n",
    "\n",
    "\n",
    "df_deviation_score = pd.DataFrame(deviation_scores, index = [\"24h\", \"36h\", \"48h\"])\n",
    "df_delta_concs = pd.DataFrame(delta_concs, index = [\"24h\", \"36h\", \"48h\"])"
   ]
  },
  {
   "cell_type": "code",
   "execution_count": 11,
   "id": "7d550766",
   "metadata": {},
   "outputs": [
    {
     "data": {
      "text/html": [
       "<div>\n",
       "<style scoped>\n",
       "    .dataframe tbody tr th:only-of-type {\n",
       "        vertical-align: middle;\n",
       "    }\n",
       "\n",
       "    .dataframe tbody tr th {\n",
       "        vertical-align: top;\n",
       "    }\n",
       "\n",
       "    .dataframe thead th {\n",
       "        text-align: right;\n",
       "    }\n",
       "</style>\n",
       "<table border=\"1\" class=\"dataframe\">\n",
       "  <thead>\n",
       "    <tr style=\"text-align: right;\">\n",
       "      <th></th>\n",
       "      <th>4 μM</th>\n",
       "      <th>6 μM</th>\n",
       "      <th>8 μM</th>\n",
       "      <th>10 μM</th>\n",
       "    </tr>\n",
       "  </thead>\n",
       "  <tbody>\n",
       "    <tr>\n",
       "      <th>24h</th>\n",
       "      <td>-1.0</td>\n",
       "      <td>-0.111111</td>\n",
       "      <td>0.4</td>\n",
       "      <td>1.000000</td>\n",
       "    </tr>\n",
       "    <tr>\n",
       "      <th>36h</th>\n",
       "      <td>0.0</td>\n",
       "      <td>0.111111</td>\n",
       "      <td>0.6</td>\n",
       "      <td>1.000000</td>\n",
       "    </tr>\n",
       "    <tr>\n",
       "      <th>48h</th>\n",
       "      <td>0.0</td>\n",
       "      <td>0.000000</td>\n",
       "      <td>0.6</td>\n",
       "      <td>0.857143</td>\n",
       "    </tr>\n",
       "  </tbody>\n",
       "</table>\n",
       "</div>"
      ],
      "text/plain": [
       "     4 μM      6 μM  8 μM     10 μM\n",
       "24h  -1.0 -0.111111   0.4  1.000000\n",
       "36h   0.0  0.111111   0.6  1.000000\n",
       "48h   0.0  0.000000   0.6  0.857143"
      ]
     },
     "execution_count": 11,
     "metadata": {},
     "output_type": "execute_result"
    }
   ],
   "source": [
    "# The predicted Deviation Scores\n",
    "df_deviation_score"
   ]
  },
  {
   "cell_type": "code",
   "execution_count": 12,
   "id": "882e1f00",
   "metadata": {},
   "outputs": [
    {
     "data": {
      "text/html": [
       "<div>\n",
       "<style scoped>\n",
       "    .dataframe tbody tr th:only-of-type {\n",
       "        vertical-align: middle;\n",
       "    }\n",
       "\n",
       "    .dataframe tbody tr th {\n",
       "        vertical-align: top;\n",
       "    }\n",
       "\n",
       "    .dataframe thead th {\n",
       "        text-align: right;\n",
       "    }\n",
       "</style>\n",
       "<table border=\"1\" class=\"dataframe\">\n",
       "  <thead>\n",
       "    <tr style=\"text-align: right;\">\n",
       "      <th></th>\n",
       "      <th>4 μM</th>\n",
       "      <th>6 μM</th>\n",
       "      <th>8 μM</th>\n",
       "      <th>10 μM</th>\n",
       "    </tr>\n",
       "  </thead>\n",
       "  <tbody>\n",
       "    <tr>\n",
       "      <th>24h</th>\n",
       "      <td>-2</td>\n",
       "      <td>0</td>\n",
       "      <td>0</td>\n",
       "      <td>2</td>\n",
       "    </tr>\n",
       "    <tr>\n",
       "      <th>36h</th>\n",
       "      <td>0</td>\n",
       "      <td>0</td>\n",
       "      <td>2</td>\n",
       "      <td>4</td>\n",
       "    </tr>\n",
       "    <tr>\n",
       "      <th>48h</th>\n",
       "      <td>0</td>\n",
       "      <td>0</td>\n",
       "      <td>2</td>\n",
       "      <td>4</td>\n",
       "    </tr>\n",
       "  </tbody>\n",
       "</table>\n",
       "</div>"
      ],
      "text/plain": [
       "     4 μM  6 μM  8 μM  10 μM\n",
       "24h    -2     0     0      2\n",
       "36h     0     0     2      4\n",
       "48h     0     0     2      4"
      ]
     },
     "execution_count": 12,
     "metadata": {},
     "output_type": "execute_result"
    }
   ],
   "source": [
    "# The true ΔCHIR concentration\n",
    "df_delta_concs"
   ]
  },
  {
   "cell_type": "code",
   "execution_count": 13,
   "id": "5d3ccf28",
   "metadata": {},
   "outputs": [
    {
     "name": "stdout",
     "output_type": "stream",
     "text": [
      "Pearson's r =  0.9055949090259772\n",
      "p =  5.030836219216342e-05\n"
     ]
    }
   ],
   "source": [
    "# Compute the Pearson's r\n",
    "\n",
    "from scipy import stats\n",
    "\n",
    "r, p = stats.pearsonr(df_deviation_score.to_numpy().ravel(), \n",
    "                       df_delta_concs.to_numpy().ravel())\n",
    "\n",
    "print(\"Pearson's r = \", r)\n",
    "print(\"p = \", p)"
   ]
  },
  {
   "cell_type": "markdown",
   "id": "71e91b49",
   "metadata": {},
   "source": [
    "The predicted Deviation Scores can help select the CHIR duration. Next we show that using the optimal CHIR duration selected by ML, the differentiation efficiency can be improved and batch-to-batch variation can be reduced (**Fig. 4h**). "
   ]
  },
  {
   "cell_type": "markdown",
   "id": "fd6a37b3",
   "metadata": {},
   "source": [
    "Suppose the preset condition is CHIR concentration = 8μM, CHIR duration = 48h. At an early stage (~12h), we run the trained ML models on different batches and obtain their Deviation Scores at different CHIR durations (24h, 36h, and 48h)."
   ]
  },
  {
   "cell_type": "code",
   "execution_count": 14,
   "id": "8e70e0f0",
   "metadata": {},
   "outputs": [],
   "source": [
    "deviation_scores = [] # the predicted deviation scores\n",
    "batch_names = [\"CD01-1\", \"CD01-2\", \"CD01-3\", \"CD01-4\"]\n",
    "\n",
    "clfs = {24:clf_24, 36:clf_36, 48:clf_48}\n",
    "\n",
    "concentration = 8 # preset concentration\n",
    "\n",
    "for batch_name in batch_names:\n",
    "\n",
    "    test_batch = df_test[df_test.batch_name == batch_name]\n",
    "    score = {}\n",
    "\n",
    "    for duration in (24, 36, 48):\n",
    "\n",
    "        clf = clfs[duration]\n",
    "        pred_label = clf.predict(test_batch[test_batch.CHIR_conc == concentration].feature.to_list())\n",
    "        score[\"%d h\" % duration] = (pred_label == \"high\").mean() - (pred_label == \"low\").mean()\n",
    "\n",
    "    deviation_scores.append(score)\n",
    "\n",
    "df_deviation_score = pd.DataFrame(deviation_scores, index = batch_names)"
   ]
  },
  {
   "cell_type": "code",
   "execution_count": 15,
   "id": "691f799c",
   "metadata": {},
   "outputs": [
    {
     "data": {
      "text/html": [
       "<div>\n",
       "<style scoped>\n",
       "    .dataframe tbody tr th:only-of-type {\n",
       "        vertical-align: middle;\n",
       "    }\n",
       "\n",
       "    .dataframe tbody tr th {\n",
       "        vertical-align: top;\n",
       "    }\n",
       "\n",
       "    .dataframe thead th {\n",
       "        text-align: right;\n",
       "    }\n",
       "</style>\n",
       "<table border=\"1\" class=\"dataframe\">\n",
       "  <thead>\n",
       "    <tr style=\"text-align: right;\">\n",
       "      <th></th>\n",
       "      <th>24 h</th>\n",
       "      <th>36 h</th>\n",
       "      <th>48 h</th>\n",
       "    </tr>\n",
       "  </thead>\n",
       "  <tbody>\n",
       "    <tr>\n",
       "      <th>CD01-1</th>\n",
       "      <td>0.4</td>\n",
       "      <td>0.60</td>\n",
       "      <td>0.6</td>\n",
       "    </tr>\n",
       "    <tr>\n",
       "      <th>CD01-2</th>\n",
       "      <td>0.0</td>\n",
       "      <td>0.25</td>\n",
       "      <td>1.0</td>\n",
       "    </tr>\n",
       "    <tr>\n",
       "      <th>CD01-3</th>\n",
       "      <td>0.0</td>\n",
       "      <td>0.00</td>\n",
       "      <td>0.0</td>\n",
       "    </tr>\n",
       "    <tr>\n",
       "      <th>CD01-4</th>\n",
       "      <td>0.0</td>\n",
       "      <td>0.00</td>\n",
       "      <td>0.0</td>\n",
       "    </tr>\n",
       "  </tbody>\n",
       "</table>\n",
       "</div>"
      ],
      "text/plain": [
       "        24 h  36 h  48 h\n",
       "CD01-1   0.4  0.60   0.6\n",
       "CD01-2   0.0  0.25   1.0\n",
       "CD01-3   0.0  0.00   0.0\n",
       "CD01-4   0.0  0.00   0.0"
      ]
     },
     "execution_count": 15,
     "metadata": {},
     "output_type": "execute_result"
    }
   ],
   "source": [
    "df_deviation_score"
   ]
  },
  {
   "cell_type": "code",
   "execution_count": 16,
   "id": "0c817020",
   "metadata": {},
   "outputs": [
    {
     "name": "stdout",
     "output_type": "stream",
     "text": [
      "ML-selected duration:  {'CD01-1': 24, 'CD01-2': 24, 'CD01-3': 24, 'CD01-4': 24}\n"
     ]
    }
   ],
   "source": [
    "optimal_duration = {}\n",
    "for batch in batch_names:\n",
    "    for duration in (24, 36, 48):\n",
    "        if df_deviation_score.loc[batch, \"%d h\" % duration] >= 0:\n",
    "            optimal_duration[batch] = duration\n",
    "        break\n",
    "print(\"ML-selected duration: \", optimal_duration)"
   ]
  },
  {
   "cell_type": "markdown",
   "id": "326fb097",
   "metadata": {},
   "source": [
    "One can find that ML sugguested that using CHIR duration = 24h, 24h, 24h, 24h (for batch CD01-1, CD01-2, CD01-3, CD01-4, respectively) will be better. Then we compare the differentiation efficiency under the preset condition (8μM, 48h) with optimized condition (8μM, ML-selected duration)."
   ]
  },
  {
   "cell_type": "code",
   "execution_count": 17,
   "id": "758f2974",
   "metadata": {},
   "outputs": [
    {
     "data": {
      "image/png": "[encoded data removed]",
      "text/plain": [
       "<Figure size 432x288 with 1 Axes>"
      ]
     },
     "metadata": {
      "needs_background": "light"
     },
     "output_type": "display_data"
    }
   ],
   "source": [
    "exp_result = [pd.read_csv(\"./data/%s/%s_exp_config.csv\" % (batch_name, batch_name), index_col = 0)\n",
    "               for batch_name in batch_names]\n",
    "\n",
    "concentration = 8\n",
    "duration = 48\n",
    "\n",
    "before = [df.loc[(df.chir == concentration) & (df.chir_hour == duration), \"percentage_of_cTNT+_cells\"] \n",
    "          for batch_name, df in zip(batch_names, exp_result)]\n",
    "after = [df.loc[(df.chir == concentration) & (df.chir_hour == optimal_duration[batch_name]), \n",
    "                \"percentage_of_cTNT+_cells\"] \n",
    "          for batch_name, df in zip(batch_names, exp_result)]\n",
    "\n",
    "\n",
    "plt.boxplot(\n",
    "    positions = [1, 5, 9, 13],\n",
    "    x=before,\n",
    ")\n",
    "plt.boxplot(\n",
    "    positions = [2, 6, 10, 14],\n",
    "    x=after,\n",
    ")\n",
    "plt.xticks([1.5, 5.5, 9.5, 13.5], labels = batch_names)\n",
    "plt.title(\"Left: Preset conditions (%d $\\mu$M, %d h); \\nRight: Optimized condition\" % (concentration, duration))\n",
    "plt.show()"
   ]
  }
 ],
 "metadata": {
  "kernelspec": {
   "display_name": "Python 3",
   "language": "python",
   "name": "python3"
  },
  "language_info": {
   "codemirror_mode": {
    "name": "ipython",
    "version": 3
   },
   "file_extension": ".py",
   "mimetype": "text/x-python",
   "name": "python",
   "nbconvert_exporter": "python",
   "pygments_lexer": "ipython3",
   "version": "3.9.5"
  }
 },
 "nbformat": 4,
 "nbformat_minor": 5
}
