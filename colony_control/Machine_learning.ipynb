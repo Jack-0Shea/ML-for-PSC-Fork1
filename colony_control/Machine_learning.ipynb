{
 "cells": [
  {
   "cell_type": "markdown",
   "id": "a569eb72",
   "metadata": {},
   "source": [
    "# Machine learning for control of the initial PSC state\n",
    "\n",
    "We built a random forest regression model to predict the final differentiation efficiency using the 343 features exrtacted from the bright-field images at the PSC stage. The predicted efficiency correlated well with the true efficiency (**Fig. 5g**), showing that ML can monitor PSC colonies after passage in real-time to identify the most conducive starting point for differentiation. "
   ]
  },
  {
   "cell_type": "code",
   "execution_count": 1,
   "id": "e7293bd5",
   "metadata": {},
   "outputs": [],
   "source": [
    "import numpy as np\n",
    "import pandas as pd\n",
    "\n",
    "from sklearn.pipeline import Pipeline\n",
    "from sklearn.preprocessing import StandardScaler\n",
    "from sklearn.ensemble import RandomForestRegressor\n",
    "\n",
    "import matplotlib\n",
    "from matplotlib import pyplot as plt\n",
    "\n",
    "from scipy import stats"
   ]
  },
  {
   "cell_type": "code",
   "execution_count": 2,
   "id": "2b4f62b6",
   "metadata": {},
   "outputs": [],
   "source": [
    "# Load the dataset.\n",
    "\n",
    "batch_names = [\"CD00-1\", \"CD00-3\", \"CD00-4\", \"CD00-10\", \"CD00-2\", \n",
    "               \"CD00-6\", \"CD00-5\", \"CD00-9\", \"CD00-8\", \"CD00-7\"]\n",
    "\n",
    "df_dict = {}\n",
    "\n",
    "for batch_name in batch_names:\n",
    "    \n",
    "    df = pd.read_pickle(\"./dataset/%s.pkl\" % batch_name)\n",
    "    df_dict[batch_name] = df\n",
    "        \n",
    "# Merge the data from each batch\n",
    "\n",
    "df_all = pd.concat([df_dict[batch_name] for batch_name in batch_names], axis = 0)\n",
    "df_train = df_all[df_all.train_or_test == \"Train\"]\n",
    "df_test = df_all[df_all.train_or_test == \"Test\"]"
   ]
  },
  {
   "cell_type": "code",
   "execution_count": 3,
   "id": "d5484c51",
   "metadata": {},
   "outputs": [],
   "source": [
    "# define X and Y\n",
    "\n",
    "feature_list = [\"Area\", \"Circumference\", \"Spacing\", \"Solidity\", \"Convexity\", \n",
    "                \"Area/Circumference Ratio\", \"Circularity\"]\n",
    "feature_list.extend([\"Cell Brightness\",\n",
    "                    \"Local Entropy\",\n",
    "                    \"Contrast\",\n",
    "                    \"Total Variation\",\n",
    "                 ])\n",
    "feature_list.extend([\"Hu Moment %d\" % i for i in range(1, 8)])\n",
    "feature_list.extend([\"SIFT %d\" % i for i in range(1, 257)])\n",
    "feature_list.extend([\"ORB %d\" % i for i in range(1, 65)])\n",
    "feature_list.extend([\"Max Centroid-Contour Distances\", \n",
    "                    \"Min Centroid-Contour Distances\", \n",
    "                    \"Min/Max Ratio of Centroid-Contour Distances\", \n",
    "                    \"Mean of Centroid-Contour Distances\", \n",
    "                    \"Std of Centroid-Contour Distances\", \n",
    "                 ])\n",
    "\n",
    "X_train = df_train.loc[:, feature_list].to_numpy()\n",
    "y_train = df_train.normalized_efficiency\n",
    "\n",
    "X_test = df_test.loc[:, feature_list].to_numpy()\n",
    "y_test = df_test.normalized_efficiency"
   ]
  },
  {
   "cell_type": "code",
   "execution_count": 4,
   "id": "4e704651",
   "metadata": {},
   "outputs": [],
   "source": [
    "# define a random forest regression model\n",
    "\n",
    "regr = Pipeline([(\"preprocess\", StandardScaler()),\n",
    "                 (\"clf\", RandomForestRegressor(n_estimators=20, \n",
    "                                               max_depth=8, max_features=15, random_state=123))\n",
    "                ])\n",
    "\n",
    "# train the model\n",
    "\n",
    "regr.fit(X_train, y_train)\n",
    "\n",
    "# obtain the predicion\n",
    "\n",
    "y_pred = regr.predict(X_test)"
   ]
  },
  {
   "cell_type": "code",
   "execution_count": 5,
   "id": "fbceca6f",
   "metadata": {},
   "outputs": [
    {
     "data": {
      "image/png": "[encoded data removed]",
      "text/plain": [
       "<Figure size 432x288 with 1 Axes>"
      ]
     },
     "metadata": {
      "needs_background": "light"
     },
     "output_type": "display_data"
    },
    {
     "name": "stdout",
     "output_type": "stream",
     "text": [
      "R = 0.759926, p = 0.000000\n"
     ]
    }
   ],
   "source": [
    "# correlation analysis\n",
    "\n",
    "plt.scatter(y_test * 100, \n",
    "            y_pred * 100, \n",
    "            s = 10)\n",
    "plt.xlim(0, 100)\n",
    "plt.ylim(0, 100)\n",
    "plt.xlabel(\"True Differentiation Efficiency Index (%)\", fontsize = 14)\n",
    "plt.ylabel(\"Predicted Differentiation Efficiency Index (%)\", fontsize = 14)\n",
    "\n",
    "plt.xticks([0, 20, 40, 60, 80, 100], fontsize= 14)\n",
    "plt.yticks([0, 20, 40, 60, 80, 100], fontsize= 14)\n",
    "\n",
    "plt.gca().set_aspect(1)\n",
    "plt.show()\n",
    "\n",
    "r, p = stats.pearsonr(y_test, y_pred)\n",
    "print(\"R = %f, p = %f\" % (r, p))"
   ]
  },
  {
   "cell_type": "code",
   "execution_count": null,
   "id": "62bd320b",
   "metadata": {},
   "outputs": [],
   "source": []
  }
 ],
 "metadata": {
  "kernelspec": {
   "display_name": "Python 3",
   "language": "python",
   "name": "python3"
  },
  "language_info": {
   "codemirror_mode": {
    "name": "ipython",
    "version": 3
   },
   "file_extension": ".py",
   "mimetype": "text/x-python",
   "name": "python",
   "nbconvert_exporter": "python",
   "pygments_lexer": "ipython3",
   "version": "3.9.5"
  }
 },
 "nbformat": 4,
 "nbformat_minor": 5
}
